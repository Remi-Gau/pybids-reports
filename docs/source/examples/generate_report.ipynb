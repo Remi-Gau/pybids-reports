{
 "cells": [
  {
   "cell_type": "markdown",
   "id": "df0b3e95-c3f7-4158-8e90-09cb1d67425b",
   "metadata": {},
   "source": [
    "# Generate a dataset report\n",
    "\n",
    "Here we generate a methods writeup from a synthetic test dataset using `BIDSReport`."
   ]
  },
  {
   "cell_type": "code",
   "execution_count": 1,
   "id": "4438f0cb-216a-4cb0-afa1-9991a90eaed1",
   "metadata": {
    "tags": []
   },
   "outputs": [],
   "source": [
    "from os.path import join\n",
    "\n",
    "import rich\n",
    "from bids.layout import BIDSLayout\n",
    "from bids.tests import get_test_data_path"
   ]
  },
  {
   "cell_type": "code",
   "execution_count": 2,
   "id": "f95fc530-40f2-4596-ade8-a764869f4312",
   "metadata": {
    "tags": []
   },
   "outputs": [],
   "source": [
    "layout = BIDSLayout(join(get_test_data_path(), \"synthetic\"))"
   ]
  },
  {
   "cell_type": "code",
   "execution_count": 3,
   "id": "12072a21-bfc6-4b48-a1c5-3d60ee4776dd",
   "metadata": {
    "tags": []
   },
   "outputs": [
    {
     "data": {
      "text/html": [
       "<pre style=\"white-space:pre;overflow-x:auto;line-height:normal;font-family:Menlo,'DejaVu Sans Mono',consolas,'Courier New',monospace\"><span style=\"color: #7fbfbf; text-decoration-color: #7fbfbf\">[12:36:41] </span><span style=\"color: #800000; text-decoration-color: #800000\">WARNING </span>  <span style=\"color: #008000; text-decoration-color: #008000\">'sub-01_ses-01_magnitude1.nii.gz'</span> not yet supported.                            <a href=\"file:///home/remi/github/bids/pybids-reports/env/lib/python3.11/site-packages/bids/ext/reports/parsing.py\" target=\"_blank\"><span style=\"color: #7f7f7f; text-decoration-color: #7f7f7f\">parsing.py</span></a><span style=\"color: #7f7f7f; text-decoration-color: #7f7f7f\">:</span><a href=\"file:///home/remi/github/bids/pybids-reports/env/lib/python3.11/site-packages/bids/ext/reports/parsing.py#352\" target=\"_blank\"><span style=\"color: #7f7f7f; text-decoration-color: #7f7f7f\">352</span></a>\n",
       "</pre>\n"
      ],
      "text/plain": [
       "\u001b[2;36m[12:36:41]\u001b[0m\u001b[2;36m \u001b[0m\u001b[31mWARNING \u001b[0m  \u001b[32m'sub-01_ses-01_magnitude1.nii.gz'\u001b[0m not yet supported.                            \u001b]8;id=957314;file:///home/remi/github/bids/pybids-reports/env/lib/python3.11/site-packages/bids/ext/reports/parsing.py\u001b\\\u001b[2mparsing.py\u001b[0m\u001b]8;;\u001b\\\u001b[2m:\u001b[0m\u001b]8;id=274598;file:///home/remi/github/bids/pybids-reports/env/lib/python3.11/site-packages/bids/ext/reports/parsing.py#352\u001b\\\u001b[2m352\u001b[0m\u001b]8;;\u001b\\\n"
      ]
     },
     "metadata": {},
     "output_type": "display_data"
    },
    {
     "data": {
      "text/html": [
       "<pre style=\"white-space:pre;overflow-x:auto;line-height:normal;font-family:Menlo,'DejaVu Sans Mono',consolas,'Courier New',monospace\"><span style=\"color: #7fbfbf; text-decoration-color: #7fbfbf\">           </span><span style=\"color: #800000; text-decoration-color: #800000\">WARNING </span>  <span style=\"color: #008000; text-decoration-color: #008000\">'sub-01_ses-01_magnitude2.nii.gz'</span> not yet supported.                            <a href=\"file:///home/remi/github/bids/pybids-reports/env/lib/python3.11/site-packages/bids/ext/reports/parsing.py\" target=\"_blank\"><span style=\"color: #7f7f7f; text-decoration-color: #7f7f7f\">parsing.py</span></a><span style=\"color: #7f7f7f; text-decoration-color: #7f7f7f\">:</span><a href=\"file:///home/remi/github/bids/pybids-reports/env/lib/python3.11/site-packages/bids/ext/reports/parsing.py#352\" target=\"_blank\"><span style=\"color: #7f7f7f; text-decoration-color: #7f7f7f\">352</span></a>\n",
       "</pre>\n"
      ],
      "text/plain": [
       "\u001b[2;36m          \u001b[0m\u001b[2;36m \u001b[0m\u001b[31mWARNING \u001b[0m  \u001b[32m'sub-01_ses-01_magnitude2.nii.gz'\u001b[0m not yet supported.                            \u001b]8;id=755771;file:///home/remi/github/bids/pybids-reports/env/lib/python3.11/site-packages/bids/ext/reports/parsing.py\u001b\\\u001b[2mparsing.py\u001b[0m\u001b]8;;\u001b\\\u001b[2m:\u001b[0m\u001b]8;id=266984;file:///home/remi/github/bids/pybids-reports/env/lib/python3.11/site-packages/bids/ext/reports/parsing.py#352\u001b\\\u001b[2m352\u001b[0m\u001b]8;;\u001b\\\n"
      ]
     },
     "metadata": {},
     "output_type": "display_data"
    },
    {
     "name": "stderr",
     "output_type": "stream",
     "text": [
      "/home/remi/github/bids/pybids-reports/env/lib/python3.11/site-packages/bids/layout/models.py:229: UserWarning: Accessing entities as attributes is deprecated as of 0.7. Please use the .entities dictionary instead (i.e., .entities['run'] instead of .run.\n",
      "  warnings.warn(\"Accessing entities as attributes is deprecated as \"\n"
     ]
    },
    {
     "data": {
      "text/html": [
       "<pre style=\"white-space:pre;overflow-x:auto;line-height:normal;font-family:Menlo,'DejaVu Sans Mono',consolas,'Courier New',monospace\"><span style=\"color: #7fbfbf; text-decoration-color: #7fbfbf\">           </span><span style=\"color: #800000; text-decoration-color: #800000\">WARNING </span>  <span style=\"color: #008000; text-decoration-color: #008000\">'sub-02_ses-01_magnitude1.nii.gz'</span> not yet supported.                            <a href=\"file:///home/remi/github/bids/pybids-reports/env/lib/python3.11/site-packages/bids/ext/reports/parsing.py\" target=\"_blank\"><span style=\"color: #7f7f7f; text-decoration-color: #7f7f7f\">parsing.py</span></a><span style=\"color: #7f7f7f; text-decoration-color: #7f7f7f\">:</span><a href=\"file:///home/remi/github/bids/pybids-reports/env/lib/python3.11/site-packages/bids/ext/reports/parsing.py#352\" target=\"_blank\"><span style=\"color: #7f7f7f; text-decoration-color: #7f7f7f\">352</span></a>\n",
       "</pre>\n"
      ],
      "text/plain": [
       "\u001b[2;36m          \u001b[0m\u001b[2;36m \u001b[0m\u001b[31mWARNING \u001b[0m  \u001b[32m'sub-02_ses-01_magnitude1.nii.gz'\u001b[0m not yet supported.                            \u001b]8;id=926391;file:///home/remi/github/bids/pybids-reports/env/lib/python3.11/site-packages/bids/ext/reports/parsing.py\u001b\\\u001b[2mparsing.py\u001b[0m\u001b]8;;\u001b\\\u001b[2m:\u001b[0m\u001b]8;id=432011;file:///home/remi/github/bids/pybids-reports/env/lib/python3.11/site-packages/bids/ext/reports/parsing.py#352\u001b\\\u001b[2m352\u001b[0m\u001b]8;;\u001b\\\n"
      ]
     },
     "metadata": {},
     "output_type": "display_data"
    },
    {
     "data": {
      "text/html": [
       "<pre style=\"white-space:pre;overflow-x:auto;line-height:normal;font-family:Menlo,'DejaVu Sans Mono',consolas,'Courier New',monospace\"><span style=\"color: #7fbfbf; text-decoration-color: #7fbfbf\">           </span><span style=\"color: #800000; text-decoration-color: #800000\">WARNING </span>  <span style=\"color: #008000; text-decoration-color: #008000\">'sub-02_ses-01_magnitude2.nii.gz'</span> not yet supported.                            <a href=\"file:///home/remi/github/bids/pybids-reports/env/lib/python3.11/site-packages/bids/ext/reports/parsing.py\" target=\"_blank\"><span style=\"color: #7f7f7f; text-decoration-color: #7f7f7f\">parsing.py</span></a><span style=\"color: #7f7f7f; text-decoration-color: #7f7f7f\">:</span><a href=\"file:///home/remi/github/bids/pybids-reports/env/lib/python3.11/site-packages/bids/ext/reports/parsing.py#352\" target=\"_blank\"><span style=\"color: #7f7f7f; text-decoration-color: #7f7f7f\">352</span></a>\n",
       "</pre>\n"
      ],
      "text/plain": [
       "\u001b[2;36m          \u001b[0m\u001b[2;36m \u001b[0m\u001b[31mWARNING \u001b[0m  \u001b[32m'sub-02_ses-01_magnitude2.nii.gz'\u001b[0m not yet supported.                            \u001b]8;id=118890;file:///home/remi/github/bids/pybids-reports/env/lib/python3.11/site-packages/bids/ext/reports/parsing.py\u001b\\\u001b[2mparsing.py\u001b[0m\u001b]8;;\u001b\\\u001b[2m:\u001b[0m\u001b]8;id=862192;file:///home/remi/github/bids/pybids-reports/env/lib/python3.11/site-packages/bids/ext/reports/parsing.py#352\u001b\\\u001b[2m352\u001b[0m\u001b]8;;\u001b\\\n"
      ]
     },
     "metadata": {},
     "output_type": "display_data"
    },
    {
     "data": {
      "text/html": [
       "<pre style=\"white-space:pre;overflow-x:auto;line-height:normal;font-family:Menlo,'DejaVu Sans Mono',consolas,'Courier New',monospace\"><span style=\"color: #7fbfbf; text-decoration-color: #7fbfbf\">           </span><span style=\"color: #800000; text-decoration-color: #800000\">WARNING </span>  <span style=\"color: #008000; text-decoration-color: #008000\">'sub-03_ses-01_magnitude1.nii.gz'</span> not yet supported.                            <a href=\"file:///home/remi/github/bids/pybids-reports/env/lib/python3.11/site-packages/bids/ext/reports/parsing.py\" target=\"_blank\"><span style=\"color: #7f7f7f; text-decoration-color: #7f7f7f\">parsing.py</span></a><span style=\"color: #7f7f7f; text-decoration-color: #7f7f7f\">:</span><a href=\"file:///home/remi/github/bids/pybids-reports/env/lib/python3.11/site-packages/bids/ext/reports/parsing.py#352\" target=\"_blank\"><span style=\"color: #7f7f7f; text-decoration-color: #7f7f7f\">352</span></a>\n",
       "</pre>\n"
      ],
      "text/plain": [
       "\u001b[2;36m          \u001b[0m\u001b[2;36m \u001b[0m\u001b[31mWARNING \u001b[0m  \u001b[32m'sub-03_ses-01_magnitude1.nii.gz'\u001b[0m not yet supported.                            \u001b]8;id=325641;file:///home/remi/github/bids/pybids-reports/env/lib/python3.11/site-packages/bids/ext/reports/parsing.py\u001b\\\u001b[2mparsing.py\u001b[0m\u001b]8;;\u001b\\\u001b[2m:\u001b[0m\u001b]8;id=549896;file:///home/remi/github/bids/pybids-reports/env/lib/python3.11/site-packages/bids/ext/reports/parsing.py#352\u001b\\\u001b[2m352\u001b[0m\u001b]8;;\u001b\\\n"
      ]
     },
     "metadata": {},
     "output_type": "display_data"
    },
    {
     "data": {
      "text/html": [
       "<pre style=\"white-space:pre;overflow-x:auto;line-height:normal;font-family:Menlo,'DejaVu Sans Mono',consolas,'Courier New',monospace\"><span style=\"color: #7fbfbf; text-decoration-color: #7fbfbf\">           </span><span style=\"color: #800000; text-decoration-color: #800000\">WARNING </span>  <span style=\"color: #008000; text-decoration-color: #008000\">'sub-03_ses-01_magnitude2.nii.gz'</span> not yet supported.                            <a href=\"file:///home/remi/github/bids/pybids-reports/env/lib/python3.11/site-packages/bids/ext/reports/parsing.py\" target=\"_blank\"><span style=\"color: #7f7f7f; text-decoration-color: #7f7f7f\">parsing.py</span></a><span style=\"color: #7f7f7f; text-decoration-color: #7f7f7f\">:</span><a href=\"file:///home/remi/github/bids/pybids-reports/env/lib/python3.11/site-packages/bids/ext/reports/parsing.py#352\" target=\"_blank\"><span style=\"color: #7f7f7f; text-decoration-color: #7f7f7f\">352</span></a>\n",
       "</pre>\n"
      ],
      "text/plain": [
       "\u001b[2;36m          \u001b[0m\u001b[2;36m \u001b[0m\u001b[31mWARNING \u001b[0m  \u001b[32m'sub-03_ses-01_magnitude2.nii.gz'\u001b[0m not yet supported.                            \u001b]8;id=910677;file:///home/remi/github/bids/pybids-reports/env/lib/python3.11/site-packages/bids/ext/reports/parsing.py\u001b\\\u001b[2mparsing.py\u001b[0m\u001b]8;;\u001b\\\u001b[2m:\u001b[0m\u001b]8;id=288042;file:///home/remi/github/bids/pybids-reports/env/lib/python3.11/site-packages/bids/ext/reports/parsing.py#352\u001b\\\u001b[2m352\u001b[0m\u001b]8;;\u001b\\\n"
      ]
     },
     "metadata": {},
     "output_type": "display_data"
    },
    {
     "data": {
      "text/html": [
       "<pre style=\"white-space:pre;overflow-x:auto;line-height:normal;font-family:Menlo,'DejaVu Sans Mono',consolas,'Courier New',monospace\"><span style=\"color: #7fbfbf; text-decoration-color: #7fbfbf\">[12:36:42] </span><span style=\"color: #800000; text-decoration-color: #800000\">WARNING </span>  <span style=\"color: #008000; text-decoration-color: #008000\">'sub-04_ses-01_magnitude1.nii.gz'</span> not yet supported.                            <a href=\"file:///home/remi/github/bids/pybids-reports/env/lib/python3.11/site-packages/bids/ext/reports/parsing.py\" target=\"_blank\"><span style=\"color: #7f7f7f; text-decoration-color: #7f7f7f\">parsing.py</span></a><span style=\"color: #7f7f7f; text-decoration-color: #7f7f7f\">:</span><a href=\"file:///home/remi/github/bids/pybids-reports/env/lib/python3.11/site-packages/bids/ext/reports/parsing.py#352\" target=\"_blank\"><span style=\"color: #7f7f7f; text-decoration-color: #7f7f7f\">352</span></a>\n",
       "</pre>\n"
      ],
      "text/plain": [
       "\u001b[2;36m[12:36:42]\u001b[0m\u001b[2;36m \u001b[0m\u001b[31mWARNING \u001b[0m  \u001b[32m'sub-04_ses-01_magnitude1.nii.gz'\u001b[0m not yet supported.                            \u001b]8;id=810304;file:///home/remi/github/bids/pybids-reports/env/lib/python3.11/site-packages/bids/ext/reports/parsing.py\u001b\\\u001b[2mparsing.py\u001b[0m\u001b]8;;\u001b\\\u001b[2m:\u001b[0m\u001b]8;id=875790;file:///home/remi/github/bids/pybids-reports/env/lib/python3.11/site-packages/bids/ext/reports/parsing.py#352\u001b\\\u001b[2m352\u001b[0m\u001b]8;;\u001b\\\n"
      ]
     },
     "metadata": {},
     "output_type": "display_data"
    },
    {
     "data": {
      "text/html": [
       "<pre style=\"white-space:pre;overflow-x:auto;line-height:normal;font-family:Menlo,'DejaVu Sans Mono',consolas,'Courier New',monospace\"><span style=\"color: #7fbfbf; text-decoration-color: #7fbfbf\">           </span><span style=\"color: #800000; text-decoration-color: #800000\">WARNING </span>  <span style=\"color: #008000; text-decoration-color: #008000\">'sub-04_ses-01_magnitude2.nii.gz'</span> not yet supported.                            <a href=\"file:///home/remi/github/bids/pybids-reports/env/lib/python3.11/site-packages/bids/ext/reports/parsing.py\" target=\"_blank\"><span style=\"color: #7f7f7f; text-decoration-color: #7f7f7f\">parsing.py</span></a><span style=\"color: #7f7f7f; text-decoration-color: #7f7f7f\">:</span><a href=\"file:///home/remi/github/bids/pybids-reports/env/lib/python3.11/site-packages/bids/ext/reports/parsing.py#352\" target=\"_blank\"><span style=\"color: #7f7f7f; text-decoration-color: #7f7f7f\">352</span></a>\n",
       "</pre>\n"
      ],
      "text/plain": [
       "\u001b[2;36m          \u001b[0m\u001b[2;36m \u001b[0m\u001b[31mWARNING \u001b[0m  \u001b[32m'sub-04_ses-01_magnitude2.nii.gz'\u001b[0m not yet supported.                            \u001b]8;id=580920;file:///home/remi/github/bids/pybids-reports/env/lib/python3.11/site-packages/bids/ext/reports/parsing.py\u001b\\\u001b[2mparsing.py\u001b[0m\u001b]8;;\u001b\\\u001b[2m:\u001b[0m\u001b]8;id=48775;file:///home/remi/github/bids/pybids-reports/env/lib/python3.11/site-packages/bids/ext/reports/parsing.py#352\u001b\\\u001b[2m352\u001b[0m\u001b]8;;\u001b\\\n"
      ]
     },
     "metadata": {},
     "output_type": "display_data"
    },
    {
     "data": {
      "text/html": [
       "<pre style=\"white-space:pre;overflow-x:auto;line-height:normal;font-family:Menlo,'DejaVu Sans Mono',consolas,'Courier New',monospace\"><span style=\"color: #7fbfbf; text-decoration-color: #7fbfbf\">           </span><span style=\"color: #800000; text-decoration-color: #800000\">WARNING </span>  <span style=\"color: #008000; text-decoration-color: #008000\">'sub-05_ses-01_magnitude1.nii.gz'</span> not yet supported.                            <a href=\"file:///home/remi/github/bids/pybids-reports/env/lib/python3.11/site-packages/bids/ext/reports/parsing.py\" target=\"_blank\"><span style=\"color: #7f7f7f; text-decoration-color: #7f7f7f\">parsing.py</span></a><span style=\"color: #7f7f7f; text-decoration-color: #7f7f7f\">:</span><a href=\"file:///home/remi/github/bids/pybids-reports/env/lib/python3.11/site-packages/bids/ext/reports/parsing.py#352\" target=\"_blank\"><span style=\"color: #7f7f7f; text-decoration-color: #7f7f7f\">352</span></a>\n",
       "</pre>\n"
      ],
      "text/plain": [
       "\u001b[2;36m          \u001b[0m\u001b[2;36m \u001b[0m\u001b[31mWARNING \u001b[0m  \u001b[32m'sub-05_ses-01_magnitude1.nii.gz'\u001b[0m not yet supported.                            \u001b]8;id=374883;file:///home/remi/github/bids/pybids-reports/env/lib/python3.11/site-packages/bids/ext/reports/parsing.py\u001b\\\u001b[2mparsing.py\u001b[0m\u001b]8;;\u001b\\\u001b[2m:\u001b[0m\u001b]8;id=678299;file:///home/remi/github/bids/pybids-reports/env/lib/python3.11/site-packages/bids/ext/reports/parsing.py#352\u001b\\\u001b[2m352\u001b[0m\u001b]8;;\u001b\\\n"
      ]
     },
     "metadata": {},
     "output_type": "display_data"
    },
    {
     "data": {
      "text/html": [
       "<pre style=\"white-space:pre;overflow-x:auto;line-height:normal;font-family:Menlo,'DejaVu Sans Mono',consolas,'Courier New',monospace\"><span style=\"color: #7fbfbf; text-decoration-color: #7fbfbf\">           </span><span style=\"color: #800000; text-decoration-color: #800000\">WARNING </span>  <span style=\"color: #008000; text-decoration-color: #008000\">'sub-05_ses-01_magnitude2.nii.gz'</span> not yet supported.                            <a href=\"file:///home/remi/github/bids/pybids-reports/env/lib/python3.11/site-packages/bids/ext/reports/parsing.py\" target=\"_blank\"><span style=\"color: #7f7f7f; text-decoration-color: #7f7f7f\">parsing.py</span></a><span style=\"color: #7f7f7f; text-decoration-color: #7f7f7f\">:</span><a href=\"file:///home/remi/github/bids/pybids-reports/env/lib/python3.11/site-packages/bids/ext/reports/parsing.py#352\" target=\"_blank\"><span style=\"color: #7f7f7f; text-decoration-color: #7f7f7f\">352</span></a>\n",
       "</pre>\n"
      ],
      "text/plain": [
       "\u001b[2;36m          \u001b[0m\u001b[2;36m \u001b[0m\u001b[31mWARNING \u001b[0m  \u001b[32m'sub-05_ses-01_magnitude2.nii.gz'\u001b[0m not yet supported.                            \u001b]8;id=147288;file:///home/remi/github/bids/pybids-reports/env/lib/python3.11/site-packages/bids/ext/reports/parsing.py\u001b\\\u001b[2mparsing.py\u001b[0m\u001b]8;;\u001b\\\u001b[2m:\u001b[0m\u001b]8;id=351152;file:///home/remi/github/bids/pybids-reports/env/lib/python3.11/site-packages/bids/ext/reports/parsing.py#352\u001b\\\u001b[2m352\u001b[0m\u001b]8;;\u001b\\\n"
      ]
     },
     "metadata": {},
     "output_type": "display_data"
    },
    {
     "data": {
      "text/html": [
       "<pre style=\"white-space:pre;overflow-x:auto;line-height:normal;font-family:Menlo,'DejaVu Sans Mono',consolas,'Courier New',monospace\"><span style=\"color: #7fbfbf; text-decoration-color: #7fbfbf\">           </span><span style=\"color: #000080; text-decoration-color: #000080\">INFO    </span> Number of patterns detected: <span style=\"color: #008080; text-decoration-color: #008080; font-weight: bold\">1</span>                                                    <a href=\"file:///home/remi/github/bids/pybids-reports/env/lib/python3.11/site-packages/bids/ext/reports/report.py\" target=\"_blank\"><span style=\"color: #7f7f7f; text-decoration-color: #7f7f7f\">report.py</span></a><span style=\"color: #7f7f7f; text-decoration-color: #7f7f7f\">:</span><a href=\"file:///home/remi/github/bids/pybids-reports/env/lib/python3.11/site-packages/bids/ext/reports/report.py#182\" target=\"_blank\"><span style=\"color: #7f7f7f; text-decoration-color: #7f7f7f\">182</span></a>\n",
       "</pre>\n"
      ],
      "text/plain": [
       "\u001b[2;36m          \u001b[0m\u001b[2;36m \u001b[0m\u001b[34mINFO    \u001b[0m Number of patterns detected: \u001b[1;36m1\u001b[0m                                                    \u001b]8;id=292465;file:///home/remi/github/bids/pybids-reports/env/lib/python3.11/site-packages/bids/ext/reports/report.py\u001b\\\u001b[2mreport.py\u001b[0m\u001b]8;;\u001b\\\u001b[2m:\u001b[0m\u001b]8;id=202116;file:///home/remi/github/bids/pybids-reports/env/lib/python3.11/site-packages/bids/ext/reports/report.py#182\u001b\\\u001b[2m182\u001b[0m\u001b]8;;\u001b\\\n"
      ]
     },
     "metadata": {},
     "output_type": "display_data"
    },
    {
     "data": {
      "text/html": [
       "<pre style=\"white-space:pre;overflow-x:auto;line-height:normal;font-family:Menlo,'DejaVu Sans Mono',consolas,'Courier New',monospace\"><span style=\"color: #7fbfbf; text-decoration-color: #7fbfbf\">           </span><span style=\"color: #000080; text-decoration-color: #000080\">INFO    </span> Remember to double-check everything and to replace <span style=\"font-weight: bold\">&lt;</span><span style=\"color: #ff00ff; text-decoration-color: #ff00ff; font-weight: bold\">deg</span><span style=\"font-weight: bold\">&gt;</span> with a degree symbol.    <a href=\"file:///home/remi/github/bids/pybids-reports/env/lib/python3.11/site-packages/bids/ext/reports/report.py\" target=\"_blank\"><span style=\"color: #7f7f7f; text-decoration-color: #7f7f7f\">report.py</span></a><span style=\"color: #7f7f7f; text-decoration-color: #7f7f7f\">:</span><a href=\"file:///home/remi/github/bids/pybids-reports/env/lib/python3.11/site-packages/bids/ext/reports/report.py#184\" target=\"_blank\"><span style=\"color: #7f7f7f; text-decoration-color: #7f7f7f\">184</span></a>\n",
       "</pre>\n"
      ],
      "text/plain": [
       "\u001b[2;36m          \u001b[0m\u001b[2;36m \u001b[0m\u001b[34mINFO    \u001b[0m Remember to double-check everything and to replace \u001b[1m<\u001b[0m\u001b[1;95mdeg\u001b[0m\u001b[1m>\u001b[0m with a degree symbol.    \u001b]8;id=413595;file:///home/remi/github/bids/pybids-reports/env/lib/python3.11/site-packages/bids/ext/reports/report.py\u001b\\\u001b[2mreport.py\u001b[0m\u001b]8;;\u001b\\\u001b[2m:\u001b[0m\u001b]8;id=738672;file:///home/remi/github/bids/pybids-reports/env/lib/python3.11/site-packages/bids/ext/reports/report.py#184\u001b\\\u001b[2m184\u001b[0m\u001b]8;;\u001b\\\n"
      ]
     },
     "metadata": {},
     "output_type": "display_data"
    }
   ],
   "source": [
    "from bids.ext.reports import BIDSReport\n",
    "\n",
    "report = BIDSReport(layout)\n",
    "counter = report.generate(session=\"01\")"
   ]
  },
  {
   "cell_type": "code",
   "execution_count": 4,
   "id": "8b6b5ca9-19e8-4e3e-a53a-9ac1be39d378",
   "metadata": {
    "tags": []
   },
   "outputs": [
    {
     "data": {
      "text/html": [
       "<pre style=\"white-space:pre;overflow-x:auto;line-height:normal;font-family:Menlo,'DejaVu Sans Mono',consolas,'Courier New',monospace\">In session <span style=\"color: #008080; text-decoration-color: #008080; font-weight: bold\">01</span>, <span style=\"color: #000080; text-decoration-color: #000080\">One run of   UNKNOwN SEQUENCE UNKNOwN SEQUENCE VARIANT single-echo structural MRI data were </span>\n",
       "<span style=\"color: #000080; text-decoration-color: #000080\">collected </span><span style=\"color: #000080; text-decoration-color: #000080; font-weight: bold\">(</span><span style=\"color: #000080; text-decoration-color: #000080\">repetition time, </span><span style=\"color: #000080; text-decoration-color: #000080\">TR</span><span style=\"color: #000080; text-decoration-color: #000080\">= </span><span style=\"color: #000080; text-decoration-color: #000080; font-weight: bold\">2500.0</span><span style=\"color: #000080; text-decoration-color: #000080\"> ms; flip angle, </span><span style=\"color: #000080; text-decoration-color: #000080\">FA</span><span style=\"color: #000080; text-decoration-color: #000080\">= </span><span style=\"color: #000080; text-decoration-color: #000080; font-weight: bold\">8</span><span style=\"color: #000080; text-decoration-color: #000080\">°; echo time, </span><span style=\"color: #000080; text-decoration-color: #000080\">TE</span><span style=\"color: #000080; text-decoration-color: #000080\">= </span><span style=\"color: #000080; text-decoration-color: #000080; font-weight: bold\">2.9</span><span style=\"color: #000080; text-decoration-color: #000080\"> ms; field of view </span><span style=\"color: #000080; text-decoration-color: #000080\">FOV</span><span style=\"color: #000080; text-decoration-color: #000080\">= 256x256 </span>\n",
       "<span style=\"color: #000080; text-decoration-color: #000080\">mm; matrix </span><span style=\"color: #000080; text-decoration-color: #000080\">size</span><span style=\"color: #000080; text-decoration-color: #000080\">= 256x256; voxel </span><span style=\"color: #000080; text-decoration-color: #000080\">size</span><span style=\"color: #000080; text-decoration-color: #000080\">= 1x1x1 mm; UNKNOWN slices</span><span style=\"color: #000080; text-decoration-color: #000080; font-weight: bold\">)</span><span style=\"color: #000080; text-decoration-color: #000080\">.</span>\n",
       "\n",
       "        <span style=\"color: #000080; text-decoration-color: #000080\">One run of   UNKNOwN SEQUENCE UNKNOwN SEQUENCE VARIANT single-echo structural MRI data were collected </span>\n",
       "<span style=\"color: #000080; text-decoration-color: #000080; font-weight: bold\">(</span><span style=\"color: #000080; text-decoration-color: #000080\">repetition time, </span><span style=\"color: #000080; text-decoration-color: #000080\">TR</span><span style=\"color: #000080; text-decoration-color: #000080\">= </span><span style=\"color: #000080; text-decoration-color: #000080; font-weight: bold\">2500.0</span><span style=\"color: #000080; text-decoration-color: #000080\"> ms; flip angle, </span><span style=\"color: #000080; text-decoration-color: #000080\">FA</span><span style=\"color: #000080; text-decoration-color: #000080\">= </span><span style=\"color: #000080; text-decoration-color: #000080; font-weight: bold\">8</span><span style=\"color: #000080; text-decoration-color: #000080\">°; echo time, </span><span style=\"color: #000080; text-decoration-color: #000080\">TE</span><span style=\"color: #000080; text-decoration-color: #000080\">= </span><span style=\"color: #000080; text-decoration-color: #000080; font-weight: bold\">2.9</span><span style=\"color: #000080; text-decoration-color: #000080\"> ms; field of view </span><span style=\"color: #000080; text-decoration-color: #000080\">FOV</span><span style=\"color: #000080; text-decoration-color: #000080\">= 256x256 mm; matrix </span>\n",
       "<span style=\"color: #000080; text-decoration-color: #000080\">size</span><span style=\"color: #000080; text-decoration-color: #000080\">= 256x256; voxel </span><span style=\"color: #000080; text-decoration-color: #000080\">size</span><span style=\"color: #000080; text-decoration-color: #000080\">= 1x1x1 mm; UNKNOWN slices</span><span style=\"color: #000080; text-decoration-color: #000080; font-weight: bold\">)</span><span style=\"color: #000080; text-decoration-color: #000080\">.</span>\n",
       "\n",
       "        <span style=\"color: #000080; text-decoration-color: #000080\">One run of  UNKNOwN SEQUENCE UNKNOwN SEQUENCE VARIANT diffusion-weighted-imaging </span><span style=\"color: #000080; text-decoration-color: #000080; font-weight: bold\">()</span><span style=\"color: #000080; text-decoration-color: #000080\"> data were collected </span><span style=\"color: #000080; text-decoration-color: #000080; font-weight: bold\">(</span><span style=\"color: #000080; text-decoration-color: #000080; font-weight: bold\">68</span>\n",
       "<span style=\"color: #000080; text-decoration-color: #000080\">slices; repetition time, </span><span style=\"color: #000080; text-decoration-color: #000080\">TR</span><span style=\"color: #000080; text-decoration-color: #000080\">= </span><span style=\"color: #000080; text-decoration-color: #000080; font-weight: bold\">8400.0</span><span style=\"color: #000080; text-decoration-color: #000080\"> ms; flip angle, </span><span style=\"color: #000080; text-decoration-color: #000080\">FA</span><span style=\"color: #000080; text-decoration-color: #000080\">= </span><span style=\"color: #000080; text-decoration-color: #000080; font-weight: bold\">90</span><span style=\"color: #000080; text-decoration-color: #000080\">°; echo time, </span><span style=\"color: #000080; text-decoration-color: #000080\">TE</span><span style=\"color: #000080; text-decoration-color: #000080\">= </span><span style=\"color: #000080; text-decoration-color: #000080; font-weight: bold\">90</span><span style=\"color: #000080; text-decoration-color: #000080\"> ms; field of view </span><span style=\"color: #000080; text-decoration-color: #000080\">FOV</span><span style=\"color: #000080; text-decoration-color: #000080\">= 128x128 mm; </span>\n",
       "<span style=\"color: #000080; text-decoration-color: #000080\">matrix </span><span style=\"color: #000080; text-decoration-color: #000080\">size</span><span style=\"color: #000080; text-decoration-color: #000080\">= 64x64; voxel </span><span style=\"color: #000080; text-decoration-color: #000080\">size</span><span style=\"color: #000080; text-decoration-color: #000080\">= 2x2x2 mm; b-values of </span><span style=\"color: #000080; text-decoration-color: #000080; font-weight: bold\">0</span><span style=\"color: #000080; text-decoration-color: #000080\"> and </span><span style=\"color: #000080; text-decoration-color: #000080; font-weight: bold\">1000</span><span style=\"color: #000080; text-decoration-color: #000080\"> acquired; </span><span style=\"color: #000080; text-decoration-color: #000080; font-weight: bold\">64</span><span style=\"color: #000080; text-decoration-color: #000080\"> diffusion directions;  </span><span style=\"color: #000080; text-decoration-color: #000080; font-weight: bold\">)</span><span style=\"color: #000080; text-decoration-color: #000080\">.</span>\n",
       "\n",
       "        \n",
       "        \n",
       "        <span style=\"color: #000080; text-decoration-color: #000080\">A  UNKNOwN SEQUENCE UNKNOwN SEQUENCE VARIANT field map </span><span style=\"color: #000080; text-decoration-color: #000080; font-weight: bold\">(</span><span style=\"color: #000080; text-decoration-color: #000080\">repetition time, </span><span style=\"color: #000080; text-decoration-color: #000080\">TR</span><span style=\"color: #000080; text-decoration-color: #000080\">= </span><span style=\"color: #000080; text-decoration-color: #000080; font-weight: bold\">400.0</span><span style=\"color: #000080; text-decoration-color: #000080\"> ms; flip angle, </span><span style=\"color: #000080; text-decoration-color: #000080\">FA</span><span style=\"color: #000080; text-decoration-color: #000080\">= </span>\n",
       "<span style=\"color: #000080; text-decoration-color: #000080; font-weight: bold\">60.0</span><span style=\"color: #000080; text-decoration-color: #000080\">°; echo time </span><span style=\"color: #000080; text-decoration-color: #000080; font-weight: bold\">1</span><span style=\"color: #000080; text-decoration-color: #000080\"> / </span><span style=\"color: #000080; text-decoration-color: #000080; font-weight: bold\">2</span><span style=\"color: #000080; text-decoration-color: #000080\">, TE </span><span style=\"color: #000080; text-decoration-color: #000080; font-weight: bold\">1</span><span style=\"color: #000080; text-decoration-color: #000080\">/</span><span style=\"color: #000080; text-decoration-color: #000080; font-weight: bold\">2</span><span style=\"color: #000080; text-decoration-color: #000080\">= </span><span style=\"color: #000080; text-decoration-color: #000080; font-weight: bold\">519000.0</span><span style=\"color: #000080; text-decoration-color: #000080\">/</span><span style=\"color: #000080; text-decoration-color: #000080; font-weight: bold\">519000.0</span><span style=\"color: #000080; text-decoration-color: #000080\"> ms; phase encoding: anterior to posterior; ; field of view </span><span style=\"color: #000080; text-decoration-color: #000080\">FOV</span><span style=\"color: #000080; text-decoration-color: #000080\">= </span>\n",
       "<span style=\"color: #000080; text-decoration-color: #000080\">256x256 mm; matrix </span><span style=\"color: #000080; text-decoration-color: #000080\">size</span><span style=\"color: #000080; text-decoration-color: #000080\">= 256x256; voxel </span><span style=\"color: #000080; text-decoration-color: #000080\">size</span><span style=\"color: #000080; text-decoration-color: #000080\">= 1x1x1 mm; UNKNOWN slices</span><span style=\"color: #000080; text-decoration-color: #000080; font-weight: bold\">)</span><span style=\"color: #000080; text-decoration-color: #000080\"> was acquired for the first and second runs </span>\n",
       "<span style=\"color: #000080; text-decoration-color: #000080\">of the N-Back BOLD scan.</span>\n",
       "\n",
       "        <span style=\"color: #000080; text-decoration-color: #000080\">For the N-Back task Two runs of bold  UNKNOwN SEQUENCE UNKNOwN SEQUENCE VARIANT single-echo fMRI data were </span>\n",
       "<span style=\"color: #000080; text-decoration-color: #000080\">collected. The acquisition parameters were: UNKNOWN slices acquired in a  fashion; repetition time, </span><span style=\"color: #000080; text-decoration-color: #000080\">TR</span><span style=\"color: #000080; text-decoration-color: #000080\">= </span><span style=\"color: #000080; text-decoration-color: #000080; font-weight: bold\">2500.0</span><span style=\"color: #000080; text-decoration-color: #000080\"> ms; </span>\n",
       "<span style=\"color: #000080; text-decoration-color: #000080\">flip angle, </span><span style=\"color: #000080; text-decoration-color: #000080\">FA</span><span style=\"color: #000080; text-decoration-color: #000080\">= UNKNOWN°; echo time, </span><span style=\"color: #000080; text-decoration-color: #000080\">TE</span><span style=\"color: #000080; text-decoration-color: #000080\">= </span><span style=\"color: #000080; text-decoration-color: #000080; font-weight: bold\">30</span><span style=\"color: #000080; text-decoration-color: #000080\"> ms;  ;  field of view </span><span style=\"color: #000080; text-decoration-color: #000080\">FOV</span><span style=\"color: #000080; text-decoration-color: #000080\">= 128x128 mm; matrix </span><span style=\"color: #000080; text-decoration-color: #000080\">size</span><span style=\"color: #000080; text-decoration-color: #000080\">= 64x64; voxel </span><span style=\"color: #000080; text-decoration-color: #000080\">size</span><span style=\"color: #000080; text-decoration-color: #000080\">= </span>\n",
       "<span style=\"color: #000080; text-decoration-color: #000080\">2x2x2 mm;</span>\n",
       "<span style=\"color: #000080; text-decoration-color: #000080\">Each run was </span><span style=\"color: #000080; text-decoration-color: #000080; font-weight: bold\">2:40</span><span style=\"color: #000080; text-decoration-color: #000080\"> minutes in length, during which </span><span style=\"color: #000080; text-decoration-color: #000080; font-weight: bold\">64</span><span style=\"color: #000080; text-decoration-color: #000080\"> functional volumes were acquired.</span>\n",
       "\n",
       "<span style=\"color: #000080; text-decoration-color: #000080\">Participants were specifically instructed to: </span>\n",
       "        <span style=\"color: #000080; text-decoration-color: #000080\">For the N-Back task Two runs of bold  UNKNOwN SEQUENCE UNKNOwN SEQUENCE VARIANT single-echo fMRI data were </span>\n",
       "<span style=\"color: #000080; text-decoration-color: #000080\">collected. The acquisition parameters were: UNKNOWN slices acquired in a  fashion; repetition time, </span><span style=\"color: #000080; text-decoration-color: #000080\">TR</span><span style=\"color: #000080; text-decoration-color: #000080\">= </span><span style=\"color: #000080; text-decoration-color: #000080; font-weight: bold\">2500.0</span><span style=\"color: #000080; text-decoration-color: #000080\"> ms; </span>\n",
       "<span style=\"color: #000080; text-decoration-color: #000080\">flip angle, </span><span style=\"color: #000080; text-decoration-color: #000080\">FA</span><span style=\"color: #000080; text-decoration-color: #000080\">= UNKNOWN°; echo time, </span><span style=\"color: #000080; text-decoration-color: #000080\">TE</span><span style=\"color: #000080; text-decoration-color: #000080\">= </span><span style=\"color: #000080; text-decoration-color: #000080; font-weight: bold\">30</span><span style=\"color: #000080; text-decoration-color: #000080\"> ms;  ;  field of view </span><span style=\"color: #000080; text-decoration-color: #000080\">FOV</span><span style=\"color: #000080; text-decoration-color: #000080\">= 128x128 mm; matrix </span><span style=\"color: #000080; text-decoration-color: #000080\">size</span><span style=\"color: #000080; text-decoration-color: #000080\">= 64x64; voxel </span><span style=\"color: #000080; text-decoration-color: #000080\">size</span><span style=\"color: #000080; text-decoration-color: #000080\">= </span>\n",
       "<span style=\"color: #000080; text-decoration-color: #000080\">2x2x2 mm;</span>\n",
       "<span style=\"color: #000080; text-decoration-color: #000080\">Each run was </span><span style=\"color: #000080; text-decoration-color: #000080; font-weight: bold\">2:40</span><span style=\"color: #000080; text-decoration-color: #000080\"> minutes in length, during which </span><span style=\"color: #000080; text-decoration-color: #000080; font-weight: bold\">64</span><span style=\"color: #000080; text-decoration-color: #000080\"> functional volumes were acquired.</span>\n",
       "\n",
       "<span style=\"color: #000080; text-decoration-color: #000080\">Participants were specifically instructed to: </span>\n",
       "        <span style=\"color: #000080; text-decoration-color: #000080\">For the Rest task One run of bold  UNKNOwN SEQUENCE UNKNOwN SEQUENCE VARIANT single-echo fMRI data were </span>\n",
       "<span style=\"color: #000080; text-decoration-color: #000080\">collected. The acquisition parameters were: UNKNOWN slices acquired in a  fashion; repetition time, </span><span style=\"color: #000080; text-decoration-color: #000080\">TR</span><span style=\"color: #000080; text-decoration-color: #000080\">= </span><span style=\"color: #000080; text-decoration-color: #000080; font-weight: bold\">2500.0</span><span style=\"color: #000080; text-decoration-color: #000080\"> ms; </span>\n",
       "<span style=\"color: #000080; text-decoration-color: #000080\">flip angle, </span><span style=\"color: #000080; text-decoration-color: #000080\">FA</span><span style=\"color: #000080; text-decoration-color: #000080\">= UNKNOWN°; echo time, </span><span style=\"color: #000080; text-decoration-color: #000080\">TE</span><span style=\"color: #000080; text-decoration-color: #000080\">= </span><span style=\"color: #000080; text-decoration-color: #000080; font-weight: bold\">30</span><span style=\"color: #000080; text-decoration-color: #000080\"> ms;  ;  field of view </span><span style=\"color: #000080; text-decoration-color: #000080\">FOV</span><span style=\"color: #000080; text-decoration-color: #000080\">= 128x128 mm; matrix </span><span style=\"color: #000080; text-decoration-color: #000080\">size</span><span style=\"color: #000080; text-decoration-color: #000080\">= 64x64; voxel </span><span style=\"color: #000080; text-decoration-color: #000080\">size</span><span style=\"color: #000080; text-decoration-color: #000080\">= </span>\n",
       "<span style=\"color: #000080; text-decoration-color: #000080\">2x2x2 mm;</span>\n",
       "<span style=\"color: #000080; text-decoration-color: #000080\">Each run was </span><span style=\"color: #000080; text-decoration-color: #000080; font-weight: bold\">2:40</span><span style=\"color: #000080; text-decoration-color: #000080\"> minutes in length, during which </span><span style=\"color: #000080; text-decoration-color: #000080; font-weight: bold\">64</span><span style=\"color: #000080; text-decoration-color: #000080\"> functional volumes were acquired.</span>\n",
       "\n",
       "<span style=\"color: #000080; text-decoration-color: #000080\">Participants were specifically instructed to: </span>\n",
       "        <span style=\"color: #000080; text-decoration-color: #000080\">For the Rest task One run of bold  UNKNOwN SEQUENCE UNKNOwN SEQUENCE VARIANT single-echo fMRI data were </span>\n",
       "<span style=\"color: #000080; text-decoration-color: #000080\">collected. The acquisition parameters were: UNKNOWN slices acquired in a  fashion; repetition time, </span><span style=\"color: #000080; text-decoration-color: #000080\">TR</span><span style=\"color: #000080; text-decoration-color: #000080\">= </span><span style=\"color: #000080; text-decoration-color: #000080; font-weight: bold\">2500.0</span><span style=\"color: #000080; text-decoration-color: #000080\"> ms; </span>\n",
       "<span style=\"color: #000080; text-decoration-color: #000080\">flip angle, </span><span style=\"color: #000080; text-decoration-color: #000080\">FA</span><span style=\"color: #000080; text-decoration-color: #000080\">= UNKNOWN°; echo time, </span><span style=\"color: #000080; text-decoration-color: #000080\">TE</span><span style=\"color: #000080; text-decoration-color: #000080\">= </span><span style=\"color: #000080; text-decoration-color: #000080; font-weight: bold\">30</span><span style=\"color: #000080; text-decoration-color: #000080\"> ms;  ;  field of view </span><span style=\"color: #000080; text-decoration-color: #000080\">FOV</span><span style=\"color: #000080; text-decoration-color: #000080\">= 128x128 mm; matrix </span><span style=\"color: #000080; text-decoration-color: #000080\">size</span><span style=\"color: #000080; text-decoration-color: #000080\">= 64x64; voxel </span><span style=\"color: #000080; text-decoration-color: #000080\">size</span><span style=\"color: #000080; text-decoration-color: #000080\">= </span>\n",
       "<span style=\"color: #000080; text-decoration-color: #000080\">2x2x2 mm;</span>\n",
       "<span style=\"color: #000080; text-decoration-color: #000080\">Each run was </span><span style=\"color: #000080; text-decoration-color: #000080; font-weight: bold\">2:40</span><span style=\"color: #000080; text-decoration-color: #000080\"> minutes in length, during which </span><span style=\"color: #000080; text-decoration-color: #000080; font-weight: bold\">64</span><span style=\"color: #000080; text-decoration-color: #000080\"> functional volumes were acquired.</span>\n",
       "\n",
       "<span style=\"color: #000080; text-decoration-color: #000080\">Participants were specifically instructed to: </span>\n",
       "        <span style=\"color: #000080; text-decoration-color: #000080\">One run of   UNKNOwN SEQUENCE UNKNOwN SEQUENCE VARIANT single-echo structural MRI data were collected </span>\n",
       "<span style=\"color: #000080; text-decoration-color: #000080; font-weight: bold\">(</span><span style=\"color: #000080; text-decoration-color: #000080\">repetition time, </span><span style=\"color: #000080; text-decoration-color: #000080\">TR</span><span style=\"color: #000080; text-decoration-color: #000080\">= </span><span style=\"color: #000080; text-decoration-color: #000080; font-weight: bold\">2500.0</span><span style=\"color: #000080; text-decoration-color: #000080\"> ms; flip angle, </span><span style=\"color: #000080; text-decoration-color: #000080\">FA</span><span style=\"color: #000080; text-decoration-color: #000080\">= </span><span style=\"color: #000080; text-decoration-color: #000080; font-weight: bold\">8</span><span style=\"color: #000080; text-decoration-color: #000080\">°; echo time, </span><span style=\"color: #000080; text-decoration-color: #000080\">TE</span><span style=\"color: #000080; text-decoration-color: #000080\">= </span><span style=\"color: #000080; text-decoration-color: #000080; font-weight: bold\">2.9</span><span style=\"color: #000080; text-decoration-color: #000080\"> ms; field of view </span><span style=\"color: #000080; text-decoration-color: #000080\">FOV</span><span style=\"color: #000080; text-decoration-color: #000080\">= 256x256 mm; matrix </span>\n",
       "<span style=\"color: #000080; text-decoration-color: #000080\">size</span><span style=\"color: #000080; text-decoration-color: #000080\">= 256x256; voxel </span><span style=\"color: #000080; text-decoration-color: #000080\">size</span><span style=\"color: #000080; text-decoration-color: #000080\">= 1x1x1 mm; UNKNOWN slices</span><span style=\"color: #000080; text-decoration-color: #000080; font-weight: bold\">)</span><span style=\"color: #000080; text-decoration-color: #000080\">.</span>\n",
       "\n",
       "        <span style=\"color: #000080; text-decoration-color: #000080\">One run of   UNKNOwN SEQUENCE UNKNOwN SEQUENCE VARIANT single-echo structural MRI data were collected </span>\n",
       "<span style=\"color: #000080; text-decoration-color: #000080; font-weight: bold\">(</span><span style=\"color: #000080; text-decoration-color: #000080\">repetition time, </span><span style=\"color: #000080; text-decoration-color: #000080\">TR</span><span style=\"color: #000080; text-decoration-color: #000080\">= </span><span style=\"color: #000080; text-decoration-color: #000080; font-weight: bold\">2500.0</span><span style=\"color: #000080; text-decoration-color: #000080\"> ms; flip angle, </span><span style=\"color: #000080; text-decoration-color: #000080\">FA</span><span style=\"color: #000080; text-decoration-color: #000080\">= </span><span style=\"color: #000080; text-decoration-color: #000080; font-weight: bold\">8</span><span style=\"color: #000080; text-decoration-color: #000080\">°; echo time, </span><span style=\"color: #000080; text-decoration-color: #000080\">TE</span><span style=\"color: #000080; text-decoration-color: #000080\">= </span><span style=\"color: #000080; text-decoration-color: #000080; font-weight: bold\">2.9</span><span style=\"color: #000080; text-decoration-color: #000080\"> ms; field of view </span><span style=\"color: #000080; text-decoration-color: #000080\">FOV</span><span style=\"color: #000080; text-decoration-color: #000080\">= 256x256 mm; matrix </span>\n",
       "<span style=\"color: #000080; text-decoration-color: #000080\">size</span><span style=\"color: #000080; text-decoration-color: #000080\">= 256x256; voxel </span><span style=\"color: #000080; text-decoration-color: #000080\">size</span><span style=\"color: #000080; text-decoration-color: #000080\">= 1x1x1 mm; UNKNOWN slices</span><span style=\"color: #000080; text-decoration-color: #000080; font-weight: bold\">)</span><span style=\"color: #000080; text-decoration-color: #000080\">.</span>\n",
       "\n",
       "        <span style=\"color: #000080; text-decoration-color: #000080\">For the N-Back task Two runs of bold  UNKNOwN SEQUENCE UNKNOwN SEQUENCE VARIANT single-echo fMRI data were </span>\n",
       "<span style=\"color: #000080; text-decoration-color: #000080\">collected. The acquisition parameters were: UNKNOWN slices acquired in a  fashion; repetition time, </span><span style=\"color: #000080; text-decoration-color: #000080\">TR</span><span style=\"color: #000080; text-decoration-color: #000080\">= </span><span style=\"color: #000080; text-decoration-color: #000080; font-weight: bold\">2500.0</span><span style=\"color: #000080; text-decoration-color: #000080\"> ms; </span>\n",
       "<span style=\"color: #000080; text-decoration-color: #000080\">flip angle, </span><span style=\"color: #000080; text-decoration-color: #000080\">FA</span><span style=\"color: #000080; text-decoration-color: #000080\">= UNKNOWN°; echo time, </span><span style=\"color: #000080; text-decoration-color: #000080\">TE</span><span style=\"color: #000080; text-decoration-color: #000080\">= </span><span style=\"color: #000080; text-decoration-color: #000080; font-weight: bold\">30</span><span style=\"color: #000080; text-decoration-color: #000080\"> ms;  ;  field of view </span><span style=\"color: #000080; text-decoration-color: #000080\">FOV</span><span style=\"color: #000080; text-decoration-color: #000080\">= 128x128 mm; matrix </span><span style=\"color: #000080; text-decoration-color: #000080\">size</span><span style=\"color: #000080; text-decoration-color: #000080\">= 64x64; voxel </span><span style=\"color: #000080; text-decoration-color: #000080\">size</span><span style=\"color: #000080; text-decoration-color: #000080\">= </span>\n",
       "<span style=\"color: #000080; text-decoration-color: #000080\">2x2x2 mm;</span>\n",
       "<span style=\"color: #000080; text-decoration-color: #000080\">Each run was </span><span style=\"color: #000080; text-decoration-color: #000080; font-weight: bold\">2:40</span><span style=\"color: #000080; text-decoration-color: #000080\"> minutes in length, during which </span><span style=\"color: #000080; text-decoration-color: #000080; font-weight: bold\">64</span><span style=\"color: #000080; text-decoration-color: #000080\"> functional volumes were acquired.</span>\n",
       "\n",
       "<span style=\"color: #000080; text-decoration-color: #000080\">Participants were specifically instructed to: </span>\n",
       "        <span style=\"color: #000080; text-decoration-color: #000080\">For the N-Back task Two runs of bold  UNKNOwN SEQUENCE UNKNOwN SEQUENCE VARIANT single-echo fMRI data were </span>\n",
       "<span style=\"color: #000080; text-decoration-color: #000080\">collected. The acquisition parameters were: UNKNOWN slices acquired in a  fashion; repetition time, </span><span style=\"color: #000080; text-decoration-color: #000080\">TR</span><span style=\"color: #000080; text-decoration-color: #000080\">= </span><span style=\"color: #000080; text-decoration-color: #000080; font-weight: bold\">2500.0</span><span style=\"color: #000080; text-decoration-color: #000080\"> ms; </span>\n",
       "<span style=\"color: #000080; text-decoration-color: #000080\">flip angle, </span><span style=\"color: #000080; text-decoration-color: #000080\">FA</span><span style=\"color: #000080; text-decoration-color: #000080\">= UNKNOWN°; echo time, </span><span style=\"color: #000080; text-decoration-color: #000080\">TE</span><span style=\"color: #000080; text-decoration-color: #000080\">= </span><span style=\"color: #000080; text-decoration-color: #000080; font-weight: bold\">30</span><span style=\"color: #000080; text-decoration-color: #000080\"> ms;  ;  field of view </span><span style=\"color: #000080; text-decoration-color: #000080\">FOV</span><span style=\"color: #000080; text-decoration-color: #000080\">= 128x128 mm; matrix </span><span style=\"color: #000080; text-decoration-color: #000080\">size</span><span style=\"color: #000080; text-decoration-color: #000080\">= 64x64; voxel </span><span style=\"color: #000080; text-decoration-color: #000080\">size</span><span style=\"color: #000080; text-decoration-color: #000080\">= </span>\n",
       "<span style=\"color: #000080; text-decoration-color: #000080\">2x2x2 mm;</span>\n",
       "<span style=\"color: #000080; text-decoration-color: #000080\">Each run was </span><span style=\"color: #000080; text-decoration-color: #000080; font-weight: bold\">2:40</span><span style=\"color: #000080; text-decoration-color: #000080\"> minutes in length, during which </span><span style=\"color: #000080; text-decoration-color: #000080; font-weight: bold\">64</span><span style=\"color: #000080; text-decoration-color: #000080\"> functional volumes were acquired.</span>\n",
       "\n",
       "<span style=\"color: #000080; text-decoration-color: #000080\">Participants were specifically instructed to: </span>\n",
       "        <span style=\"color: #000080; text-decoration-color: #000080\">For the Rest task One run of bold  UNKNOwN SEQUENCE UNKNOwN SEQUENCE VARIANT single-echo fMRI data were </span>\n",
       "<span style=\"color: #000080; text-decoration-color: #000080\">collected. The acquisition parameters were: UNKNOWN slices acquired in a  fashion; repetition time, </span><span style=\"color: #000080; text-decoration-color: #000080\">TR</span><span style=\"color: #000080; text-decoration-color: #000080\">= </span><span style=\"color: #000080; text-decoration-color: #000080; font-weight: bold\">2500.0</span><span style=\"color: #000080; text-decoration-color: #000080\"> ms; </span>\n",
       "<span style=\"color: #000080; text-decoration-color: #000080\">flip angle, </span><span style=\"color: #000080; text-decoration-color: #000080\">FA</span><span style=\"color: #000080; text-decoration-color: #000080\">= UNKNOWN°; echo time, </span><span style=\"color: #000080; text-decoration-color: #000080\">TE</span><span style=\"color: #000080; text-decoration-color: #000080\">= </span><span style=\"color: #000080; text-decoration-color: #000080; font-weight: bold\">30</span><span style=\"color: #000080; text-decoration-color: #000080\"> ms;  ;  field of view </span><span style=\"color: #000080; text-decoration-color: #000080\">FOV</span><span style=\"color: #000080; text-decoration-color: #000080\">= 128x128 mm; matrix </span><span style=\"color: #000080; text-decoration-color: #000080\">size</span><span style=\"color: #000080; text-decoration-color: #000080\">= 64x64; voxel </span><span style=\"color: #000080; text-decoration-color: #000080\">size</span><span style=\"color: #000080; text-decoration-color: #000080\">= </span>\n",
       "<span style=\"color: #000080; text-decoration-color: #000080\">2x2x2 mm;</span>\n",
       "<span style=\"color: #000080; text-decoration-color: #000080\">Each run was </span><span style=\"color: #000080; text-decoration-color: #000080; font-weight: bold\">2:40</span><span style=\"color: #000080; text-decoration-color: #000080\"> minutes in length, during which </span><span style=\"color: #000080; text-decoration-color: #000080; font-weight: bold\">64</span><span style=\"color: #000080; text-decoration-color: #000080\"> functional volumes were acquired.</span>\n",
       "\n",
       "<span style=\"color: #000080; text-decoration-color: #000080\">Participants were specifically instructed to: </span>\n",
       "        <span style=\"color: #000080; text-decoration-color: #000080\">For the Rest task One run of bold  UNKNOwN SEQUENCE UNKNOwN SEQUENCE VARIANT single-echo fMRI data were </span>\n",
       "<span style=\"color: #000080; text-decoration-color: #000080\">collected. The acquisition parameters were: UNKNOWN slices acquired in a  fashion; repetition time, </span><span style=\"color: #000080; text-decoration-color: #000080\">TR</span><span style=\"color: #000080; text-decoration-color: #000080\">= </span><span style=\"color: #000080; text-decoration-color: #000080; font-weight: bold\">2500.0</span><span style=\"color: #000080; text-decoration-color: #000080\"> ms; </span>\n",
       "<span style=\"color: #000080; text-decoration-color: #000080\">flip angle, </span><span style=\"color: #000080; text-decoration-color: #000080\">FA</span><span style=\"color: #000080; text-decoration-color: #000080\">= UNKNOWN°; echo time, </span><span style=\"color: #000080; text-decoration-color: #000080\">TE</span><span style=\"color: #000080; text-decoration-color: #000080\">= </span><span style=\"color: #000080; text-decoration-color: #000080; font-weight: bold\">30</span><span style=\"color: #000080; text-decoration-color: #000080\"> ms;  ;  field of view </span><span style=\"color: #000080; text-decoration-color: #000080\">FOV</span><span style=\"color: #000080; text-decoration-color: #000080\">= 128x128 mm; matrix </span><span style=\"color: #000080; text-decoration-color: #000080\">size</span><span style=\"color: #000080; text-decoration-color: #000080\">= 64x64; voxel </span><span style=\"color: #000080; text-decoration-color: #000080\">size</span><span style=\"color: #000080; text-decoration-color: #000080\">= </span>\n",
       "<span style=\"color: #000080; text-decoration-color: #000080\">2x2x2 mm;</span>\n",
       "<span style=\"color: #000080; text-decoration-color: #000080\">Each run was </span><span style=\"color: #000080; text-decoration-color: #000080; font-weight: bold\">2:40</span><span style=\"color: #000080; text-decoration-color: #000080\"> minutes in length, during which </span><span style=\"color: #000080; text-decoration-color: #000080; font-weight: bold\">64</span><span style=\"color: #000080; text-decoration-color: #000080\"> functional volumes were acquired.</span>\n",
       "\n",
       "<span style=\"color: #000080; text-decoration-color: #000080\">Participants were specifically instructed to: </span>\n",
       "\n",
       "Dicoms were converted to NIfTI-<span style=\"color: #008080; text-decoration-color: #008080; font-weight: bold\">1</span> format.\n",
       "</pre>\n"
      ],
      "text/plain": [
       "In session \u001b[1;36m01\u001b[0m, \u001b[34mOne run of   UNKNOwN SEQUENCE UNKNOwN SEQUENCE VARIANT single-echo structural MRI data were \u001b[0m\n",
       "\u001b[34mcollected \u001b[0m\u001b[1;34m(\u001b[0m\u001b[34mrepetition time, \u001b[0m\u001b[34mTR\u001b[0m\u001b[34m= \u001b[0m\u001b[1;34m2500.0\u001b[0m\u001b[34m ms; flip angle, \u001b[0m\u001b[34mFA\u001b[0m\u001b[34m= \u001b[0m\u001b[1;34m8\u001b[0m\u001b[34m°; echo time, \u001b[0m\u001b[34mTE\u001b[0m\u001b[34m= \u001b[0m\u001b[1;34m2.9\u001b[0m\u001b[34m ms; field of view \u001b[0m\u001b[34mFOV\u001b[0m\u001b[34m= 256x256 \u001b[0m\n",
       "\u001b[34mmm; matrix \u001b[0m\u001b[34msize\u001b[0m\u001b[34m= 256x256; voxel \u001b[0m\u001b[34msize\u001b[0m\u001b[34m= 1x1x1 mm; UNKNOWN slices\u001b[0m\u001b[1;34m)\u001b[0m\u001b[34m.\u001b[0m\n",
       "\n",
       "        \u001b[34mOne run of   UNKNOwN SEQUENCE UNKNOwN SEQUENCE VARIANT single-echo structural MRI data were collected \u001b[0m\n",
       "\u001b[1;34m(\u001b[0m\u001b[34mrepetition time, \u001b[0m\u001b[34mTR\u001b[0m\u001b[34m= \u001b[0m\u001b[1;34m2500.0\u001b[0m\u001b[34m ms; flip angle, \u001b[0m\u001b[34mFA\u001b[0m\u001b[34m= \u001b[0m\u001b[1;34m8\u001b[0m\u001b[34m°; echo time, \u001b[0m\u001b[34mTE\u001b[0m\u001b[34m= \u001b[0m\u001b[1;34m2.9\u001b[0m\u001b[34m ms; field of view \u001b[0m\u001b[34mFOV\u001b[0m\u001b[34m= 256x256 mm; matrix \u001b[0m\n",
       "\u001b[34msize\u001b[0m\u001b[34m= 256x256; voxel \u001b[0m\u001b[34msize\u001b[0m\u001b[34m= 1x1x1 mm; UNKNOWN slices\u001b[0m\u001b[1;34m)\u001b[0m\u001b[34m.\u001b[0m\n",
       "\n",
       "        \u001b[34mOne run of  UNKNOwN SEQUENCE UNKNOwN SEQUENCE VARIANT diffusion-weighted-imaging \u001b[0m\u001b[1;34m(\u001b[0m\u001b[1;34m)\u001b[0m\u001b[34m data were collected \u001b[0m\u001b[1;34m(\u001b[0m\u001b[1;34m68\u001b[0m\n",
       "\u001b[34mslices; repetition time, \u001b[0m\u001b[34mTR\u001b[0m\u001b[34m= \u001b[0m\u001b[1;34m8400.0\u001b[0m\u001b[34m ms; flip angle, \u001b[0m\u001b[34mFA\u001b[0m\u001b[34m= \u001b[0m\u001b[1;34m90\u001b[0m\u001b[34m°; echo time, \u001b[0m\u001b[34mTE\u001b[0m\u001b[34m= \u001b[0m\u001b[1;34m90\u001b[0m\u001b[34m ms; field of view \u001b[0m\u001b[34mFOV\u001b[0m\u001b[34m= 128x128 mm; \u001b[0m\n",
       "\u001b[34mmatrix \u001b[0m\u001b[34msize\u001b[0m\u001b[34m= 64x64; voxel \u001b[0m\u001b[34msize\u001b[0m\u001b[34m= 2x2x2 mm; b-values of \u001b[0m\u001b[1;34m0\u001b[0m\u001b[34m and \u001b[0m\u001b[1;34m1000\u001b[0m\u001b[34m acquired; \u001b[0m\u001b[1;34m64\u001b[0m\u001b[34m diffusion directions;  \u001b[0m\u001b[1;34m)\u001b[0m\u001b[34m.\u001b[0m\n",
       "\n",
       "        \n",
       "        \n",
       "        \u001b[34mA  UNKNOwN SEQUENCE UNKNOwN SEQUENCE VARIANT field map \u001b[0m\u001b[1;34m(\u001b[0m\u001b[34mrepetition time, \u001b[0m\u001b[34mTR\u001b[0m\u001b[34m= \u001b[0m\u001b[1;34m400.0\u001b[0m\u001b[34m ms; flip angle, \u001b[0m\u001b[34mFA\u001b[0m\u001b[34m= \u001b[0m\n",
       "\u001b[1;34m60.0\u001b[0m\u001b[34m°; echo time \u001b[0m\u001b[1;34m1\u001b[0m\u001b[34m \u001b[0m\u001b[34m/\u001b[0m\u001b[34m \u001b[0m\u001b[1;34m2\u001b[0m\u001b[34m, TE \u001b[0m\u001b[1;34m1\u001b[0m\u001b[34m/\u001b[0m\u001b[1;34m2\u001b[0m\u001b[34m= \u001b[0m\u001b[1;34m519000.0\u001b[0m\u001b[34m/\u001b[0m\u001b[1;34m519000.0\u001b[0m\u001b[34m ms; phase encoding: anterior to posterior; ; field of view \u001b[0m\u001b[34mFOV\u001b[0m\u001b[34m= \u001b[0m\n",
       "\u001b[34m256x256 mm; matrix \u001b[0m\u001b[34msize\u001b[0m\u001b[34m= 256x256; voxel \u001b[0m\u001b[34msize\u001b[0m\u001b[34m= 1x1x1 mm; UNKNOWN slices\u001b[0m\u001b[1;34m)\u001b[0m\u001b[34m was acquired for the first and second runs \u001b[0m\n",
       "\u001b[34mof the N-Back BOLD scan.\u001b[0m\n",
       "\n",
       "        \u001b[34mFor the N-Back task Two runs of bold  UNKNOwN SEQUENCE UNKNOwN SEQUENCE VARIANT single-echo fMRI data were \u001b[0m\n",
       "\u001b[34mcollected. The acquisition parameters were: UNKNOWN slices acquired in a  fashion; repetition time, \u001b[0m\u001b[34mTR\u001b[0m\u001b[34m= \u001b[0m\u001b[1;34m2500.0\u001b[0m\u001b[34m ms; \u001b[0m\n",
       "\u001b[34mflip angle, \u001b[0m\u001b[34mFA\u001b[0m\u001b[34m= UNKNOWN°; echo time, \u001b[0m\u001b[34mTE\u001b[0m\u001b[34m= \u001b[0m\u001b[1;34m30\u001b[0m\u001b[34m ms;  ;  field of view \u001b[0m\u001b[34mFOV\u001b[0m\u001b[34m= 128x128 mm; matrix \u001b[0m\u001b[34msize\u001b[0m\u001b[34m= 64x64; voxel \u001b[0m\u001b[34msize\u001b[0m\u001b[34m= \u001b[0m\n",
       "\u001b[34m2x2x2 mm;\u001b[0m\n",
       "\u001b[34mEach run was \u001b[0m\u001b[1;34m2:40\u001b[0m\u001b[34m minutes in length, during which \u001b[0m\u001b[1;34m64\u001b[0m\u001b[34m functional volumes were acquired.\u001b[0m\n",
       "\n",
       "\u001b[34mParticipants were specifically instructed to: \u001b[0m\n",
       "        \u001b[34mFor the N-Back task Two runs of bold  UNKNOwN SEQUENCE UNKNOwN SEQUENCE VARIANT single-echo fMRI data were \u001b[0m\n",
       "\u001b[34mcollected. The acquisition parameters were: UNKNOWN slices acquired in a  fashion; repetition time, \u001b[0m\u001b[34mTR\u001b[0m\u001b[34m= \u001b[0m\u001b[1;34m2500.0\u001b[0m\u001b[34m ms; \u001b[0m\n",
       "\u001b[34mflip angle, \u001b[0m\u001b[34mFA\u001b[0m\u001b[34m= UNKNOWN°; echo time, \u001b[0m\u001b[34mTE\u001b[0m\u001b[34m= \u001b[0m\u001b[1;34m30\u001b[0m\u001b[34m ms;  ;  field of view \u001b[0m\u001b[34mFOV\u001b[0m\u001b[34m= 128x128 mm; matrix \u001b[0m\u001b[34msize\u001b[0m\u001b[34m= 64x64; voxel \u001b[0m\u001b[34msize\u001b[0m\u001b[34m= \u001b[0m\n",
       "\u001b[34m2x2x2 mm;\u001b[0m\n",
       "\u001b[34mEach run was \u001b[0m\u001b[1;34m2:40\u001b[0m\u001b[34m minutes in length, during which \u001b[0m\u001b[1;34m64\u001b[0m\u001b[34m functional volumes were acquired.\u001b[0m\n",
       "\n",
       "\u001b[34mParticipants were specifically instructed to: \u001b[0m\n",
       "        \u001b[34mFor the Rest task One run of bold  UNKNOwN SEQUENCE UNKNOwN SEQUENCE VARIANT single-echo fMRI data were \u001b[0m\n",
       "\u001b[34mcollected. The acquisition parameters were: UNKNOWN slices acquired in a  fashion; repetition time, \u001b[0m\u001b[34mTR\u001b[0m\u001b[34m= \u001b[0m\u001b[1;34m2500.0\u001b[0m\u001b[34m ms; \u001b[0m\n",
       "\u001b[34mflip angle, \u001b[0m\u001b[34mFA\u001b[0m\u001b[34m= UNKNOWN°; echo time, \u001b[0m\u001b[34mTE\u001b[0m\u001b[34m= \u001b[0m\u001b[1;34m30\u001b[0m\u001b[34m ms;  ;  field of view \u001b[0m\u001b[34mFOV\u001b[0m\u001b[34m= 128x128 mm; matrix \u001b[0m\u001b[34msize\u001b[0m\u001b[34m= 64x64; voxel \u001b[0m\u001b[34msize\u001b[0m\u001b[34m= \u001b[0m\n",
       "\u001b[34m2x2x2 mm;\u001b[0m\n",
       "\u001b[34mEach run was \u001b[0m\u001b[1;34m2:40\u001b[0m\u001b[34m minutes in length, during which \u001b[0m\u001b[1;34m64\u001b[0m\u001b[34m functional volumes were acquired.\u001b[0m\n",
       "\n",
       "\u001b[34mParticipants were specifically instructed to: \u001b[0m\n",
       "        \u001b[34mFor the Rest task One run of bold  UNKNOwN SEQUENCE UNKNOwN SEQUENCE VARIANT single-echo fMRI data were \u001b[0m\n",
       "\u001b[34mcollected. The acquisition parameters were: UNKNOWN slices acquired in a  fashion; repetition time, \u001b[0m\u001b[34mTR\u001b[0m\u001b[34m= \u001b[0m\u001b[1;34m2500.0\u001b[0m\u001b[34m ms; \u001b[0m\n",
       "\u001b[34mflip angle, \u001b[0m\u001b[34mFA\u001b[0m\u001b[34m= UNKNOWN°; echo time, \u001b[0m\u001b[34mTE\u001b[0m\u001b[34m= \u001b[0m\u001b[1;34m30\u001b[0m\u001b[34m ms;  ;  field of view \u001b[0m\u001b[34mFOV\u001b[0m\u001b[34m= 128x128 mm; matrix \u001b[0m\u001b[34msize\u001b[0m\u001b[34m= 64x64; voxel \u001b[0m\u001b[34msize\u001b[0m\u001b[34m= \u001b[0m\n",
       "\u001b[34m2x2x2 mm;\u001b[0m\n",
       "\u001b[34mEach run was \u001b[0m\u001b[1;34m2:40\u001b[0m\u001b[34m minutes in length, during which \u001b[0m\u001b[1;34m64\u001b[0m\u001b[34m functional volumes were acquired.\u001b[0m\n",
       "\n",
       "\u001b[34mParticipants were specifically instructed to: \u001b[0m\n",
       "        \u001b[34mOne run of   UNKNOwN SEQUENCE UNKNOwN SEQUENCE VARIANT single-echo structural MRI data were collected \u001b[0m\n",
       "\u001b[1;34m(\u001b[0m\u001b[34mrepetition time, \u001b[0m\u001b[34mTR\u001b[0m\u001b[34m= \u001b[0m\u001b[1;34m2500.0\u001b[0m\u001b[34m ms; flip angle, \u001b[0m\u001b[34mFA\u001b[0m\u001b[34m= \u001b[0m\u001b[1;34m8\u001b[0m\u001b[34m°; echo time, \u001b[0m\u001b[34mTE\u001b[0m\u001b[34m= \u001b[0m\u001b[1;34m2.9\u001b[0m\u001b[34m ms; field of view \u001b[0m\u001b[34mFOV\u001b[0m\u001b[34m= 256x256 mm; matrix \u001b[0m\n",
       "\u001b[34msize\u001b[0m\u001b[34m= 256x256; voxel \u001b[0m\u001b[34msize\u001b[0m\u001b[34m= 1x1x1 mm; UNKNOWN slices\u001b[0m\u001b[1;34m)\u001b[0m\u001b[34m.\u001b[0m\n",
       "\n",
       "        \u001b[34mOne run of   UNKNOwN SEQUENCE UNKNOwN SEQUENCE VARIANT single-echo structural MRI data were collected \u001b[0m\n",
       "\u001b[1;34m(\u001b[0m\u001b[34mrepetition time, \u001b[0m\u001b[34mTR\u001b[0m\u001b[34m= \u001b[0m\u001b[1;34m2500.0\u001b[0m\u001b[34m ms; flip angle, \u001b[0m\u001b[34mFA\u001b[0m\u001b[34m= \u001b[0m\u001b[1;34m8\u001b[0m\u001b[34m°; echo time, \u001b[0m\u001b[34mTE\u001b[0m\u001b[34m= \u001b[0m\u001b[1;34m2.9\u001b[0m\u001b[34m ms; field of view \u001b[0m\u001b[34mFOV\u001b[0m\u001b[34m= 256x256 mm; matrix \u001b[0m\n",
       "\u001b[34msize\u001b[0m\u001b[34m= 256x256; voxel \u001b[0m\u001b[34msize\u001b[0m\u001b[34m= 1x1x1 mm; UNKNOWN slices\u001b[0m\u001b[1;34m)\u001b[0m\u001b[34m.\u001b[0m\n",
       "\n",
       "        \u001b[34mFor the N-Back task Two runs of bold  UNKNOwN SEQUENCE UNKNOwN SEQUENCE VARIANT single-echo fMRI data were \u001b[0m\n",
       "\u001b[34mcollected. The acquisition parameters were: UNKNOWN slices acquired in a  fashion; repetition time, \u001b[0m\u001b[34mTR\u001b[0m\u001b[34m= \u001b[0m\u001b[1;34m2500.0\u001b[0m\u001b[34m ms; \u001b[0m\n",
       "\u001b[34mflip angle, \u001b[0m\u001b[34mFA\u001b[0m\u001b[34m= UNKNOWN°; echo time, \u001b[0m\u001b[34mTE\u001b[0m\u001b[34m= \u001b[0m\u001b[1;34m30\u001b[0m\u001b[34m ms;  ;  field of view \u001b[0m\u001b[34mFOV\u001b[0m\u001b[34m= 128x128 mm; matrix \u001b[0m\u001b[34msize\u001b[0m\u001b[34m= 64x64; voxel \u001b[0m\u001b[34msize\u001b[0m\u001b[34m= \u001b[0m\n",
       "\u001b[34m2x2x2 mm;\u001b[0m\n",
       "\u001b[34mEach run was \u001b[0m\u001b[1;34m2:40\u001b[0m\u001b[34m minutes in length, during which \u001b[0m\u001b[1;34m64\u001b[0m\u001b[34m functional volumes were acquired.\u001b[0m\n",
       "\n",
       "\u001b[34mParticipants were specifically instructed to: \u001b[0m\n",
       "        \u001b[34mFor the N-Back task Two runs of bold  UNKNOwN SEQUENCE UNKNOwN SEQUENCE VARIANT single-echo fMRI data were \u001b[0m\n",
       "\u001b[34mcollected. The acquisition parameters were: UNKNOWN slices acquired in a  fashion; repetition time, \u001b[0m\u001b[34mTR\u001b[0m\u001b[34m= \u001b[0m\u001b[1;34m2500.0\u001b[0m\u001b[34m ms; \u001b[0m\n",
       "\u001b[34mflip angle, \u001b[0m\u001b[34mFA\u001b[0m\u001b[34m= UNKNOWN°; echo time, \u001b[0m\u001b[34mTE\u001b[0m\u001b[34m= \u001b[0m\u001b[1;34m30\u001b[0m\u001b[34m ms;  ;  field of view \u001b[0m\u001b[34mFOV\u001b[0m\u001b[34m= 128x128 mm; matrix \u001b[0m\u001b[34msize\u001b[0m\u001b[34m= 64x64; voxel \u001b[0m\u001b[34msize\u001b[0m\u001b[34m= \u001b[0m\n",
       "\u001b[34m2x2x2 mm;\u001b[0m\n",
       "\u001b[34mEach run was \u001b[0m\u001b[1;34m2:40\u001b[0m\u001b[34m minutes in length, during which \u001b[0m\u001b[1;34m64\u001b[0m\u001b[34m functional volumes were acquired.\u001b[0m\n",
       "\n",
       "\u001b[34mParticipants were specifically instructed to: \u001b[0m\n",
       "        \u001b[34mFor the Rest task One run of bold  UNKNOwN SEQUENCE UNKNOwN SEQUENCE VARIANT single-echo fMRI data were \u001b[0m\n",
       "\u001b[34mcollected. The acquisition parameters were: UNKNOWN slices acquired in a  fashion; repetition time, \u001b[0m\u001b[34mTR\u001b[0m\u001b[34m= \u001b[0m\u001b[1;34m2500.0\u001b[0m\u001b[34m ms; \u001b[0m\n",
       "\u001b[34mflip angle, \u001b[0m\u001b[34mFA\u001b[0m\u001b[34m= UNKNOWN°; echo time, \u001b[0m\u001b[34mTE\u001b[0m\u001b[34m= \u001b[0m\u001b[1;34m30\u001b[0m\u001b[34m ms;  ;  field of view \u001b[0m\u001b[34mFOV\u001b[0m\u001b[34m= 128x128 mm; matrix \u001b[0m\u001b[34msize\u001b[0m\u001b[34m= 64x64; voxel \u001b[0m\u001b[34msize\u001b[0m\u001b[34m= \u001b[0m\n",
       "\u001b[34m2x2x2 mm;\u001b[0m\n",
       "\u001b[34mEach run was \u001b[0m\u001b[1;34m2:40\u001b[0m\u001b[34m minutes in length, during which \u001b[0m\u001b[1;34m64\u001b[0m\u001b[34m functional volumes were acquired.\u001b[0m\n",
       "\n",
       "\u001b[34mParticipants were specifically instructed to: \u001b[0m\n",
       "        \u001b[34mFor the Rest task One run of bold  UNKNOwN SEQUENCE UNKNOwN SEQUENCE VARIANT single-echo fMRI data were \u001b[0m\n",
       "\u001b[34mcollected. The acquisition parameters were: UNKNOWN slices acquired in a  fashion; repetition time, \u001b[0m\u001b[34mTR\u001b[0m\u001b[34m= \u001b[0m\u001b[1;34m2500.0\u001b[0m\u001b[34m ms; \u001b[0m\n",
       "\u001b[34mflip angle, \u001b[0m\u001b[34mFA\u001b[0m\u001b[34m= UNKNOWN°; echo time, \u001b[0m\u001b[34mTE\u001b[0m\u001b[34m= \u001b[0m\u001b[1;34m30\u001b[0m\u001b[34m ms;  ;  field of view \u001b[0m\u001b[34mFOV\u001b[0m\u001b[34m= 128x128 mm; matrix \u001b[0m\u001b[34msize\u001b[0m\u001b[34m= 64x64; voxel \u001b[0m\u001b[34msize\u001b[0m\u001b[34m= \u001b[0m\n",
       "\u001b[34m2x2x2 mm;\u001b[0m\n",
       "\u001b[34mEach run was \u001b[0m\u001b[1;34m2:40\u001b[0m\u001b[34m minutes in length, during which \u001b[0m\u001b[1;34m64\u001b[0m\u001b[34m functional volumes were acquired.\u001b[0m\n",
       "\n",
       "\u001b[34mParticipants were specifically instructed to: \u001b[0m\n",
       "\n",
       "Dicoms were converted to NIfTI-\u001b[1;36m1\u001b[0m format.\n"
      ]
     },
     "metadata": {},
     "output_type": "display_data"
    }
   ],
   "source": [
    "rich.print(counter.most_common()[0][0])"
   ]
  }
 ],
 "metadata": {
  "kernelspec": {
   "display_name": "Python 3 (ipykernel)",
   "language": "python",
   "name": "python3"
  },
  "language_info": {
   "codemirror_mode": {
    "name": "ipython",
    "version": 3
   },
   "file_extension": ".py",
   "mimetype": "text/x-python",
   "name": "python",
   "nbconvert_exporter": "python",
   "pygments_lexer": "ipython3",
   "version": "3.11.3"
  }
 },
 "nbformat": 4,
 "nbformat_minor": 5
}
